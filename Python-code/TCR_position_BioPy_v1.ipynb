{
 "cells": [
  {
   "cell_type": "code",
   "execution_count": 1,
   "metadata": {},
   "outputs": [],
   "source": [
    "from __future__ import print_function\n",
    "import sys\n",
    "import os\n",
    "import numpy as np\n",
    "import Bio.PDB\n",
    "import mdtraj as md"
   ]
  },
  {
   "cell_type": "code",
   "execution_count": 2,
   "metadata": {
    "collapsed": true
   },
   "outputs": [],
   "source": [
    "# Copyright (C) 2010, Joao Rodrigues (anaryin@gmail.com)\n",
    "# This code is part of the Biopython distribution and governed by its\n",
    "# license.  Please see the LICENSE file that should have been included\n",
    "# as part of this package.\n",
    "\n",
    "\"\"\"\n",
    "Module with assorted geometrical functions on\n",
    "macromolecules.\n",
    "\"\"\"\n",
    "\n",
    "from Bio.PDB import Entity\n",
    "\n",
    "def center_of_mass(entity, geometric=False):\n",
    "    \"\"\"\n",
    "    Returns gravitic [default] or geometric center of mass of an Entity.\n",
    "    Geometric assumes all masses are equal (geometric=True)\n",
    "    \"\"\"\n",
    "    \n",
    "    # Structure, Model, Chain, Residue\n",
    "    if isinstance(entity, Entity.Entity):\n",
    "        atom_list = entity.get_atoms()\n",
    "    # List of Atoms\n",
    "    elif hasattr(entity, '__iter__') and [x for x in entity if x.level == 'A']:\n",
    "        atom_list = entity\n",
    "    else: # Some other weirdo object\n",
    "        raise ValueError(\"Center of Mass can only be calculated from the following objects:\\n\"\n",
    "                            \"Structure, Model, Chain, Residue, list of Atoms.\")\n",
    "    \n",
    "    masses = []\n",
    "    positions = [ [], [], [] ] # [ [X1, X2, ..] , [Y1, Y2, ...] , [Z1, Z2, ...] ]\n",
    "    \n",
    "    for atom in atom_list:\n",
    "        masses.append(atom.mass)\n",
    "        \n",
    "        for i, coord in enumerate(atom.coord.tolist()):\n",
    "            positions[i].append(coord)\n",
    "\n",
    "    # If there is a single atom with undefined mass complain loudly.\n",
    "    if 'ukn' in set(masses) and not geometric:\n",
    "        raise ValueError(\"Some Atoms don't have an element assigned.\\n\"\n",
    "                         \"Try adding them manually or calculate the geometrical center of mass instead.\")\n",
    "    \n",
    "    if geometric:\n",
    "        return [sum(coord_list)/len(masses) for coord_list in positions]\n",
    "    else:       \n",
    "        w_pos = [ [], [], [] ]\n",
    "        for atom_index, atom_mass in enumerate(masses):\n",
    "            w_pos[0].append(positions[0][atom_index]*atom_mass)\n",
    "            w_pos[1].append(positions[1][atom_index]*atom_mass)\n",
    "            w_pos[2].append(positions[2][atom_index]*atom_mass)\n",
    "\n",
    "        return [sum(coord_list)/sum(masses) for coord_list in w_pos]\n"
   ]
  },
  {
   "cell_type": "code",
   "execution_count": 31,
   "metadata": {},
   "outputs": [],
   "source": [
    "# Geometrical parameters of TCR-MHC class I\n",
    "def tcr_mhci_pos(pdbid, mhc_a='A', tcr_a='D', tcr_b='E',\n",
    "                 mhc_a_init=1, mhc_a_final=180,\n",
    "                 tcr_a_init=1, tcr_a_final=109, \n",
    "                 tcr_b_init=1, tcr_b_final=116):\n",
    "# Define residues range to align and center of mass calculations\n",
    "    mhci_atoms_to_align_com = range(mhc_a_init, mhc_a_final + 1)\n",
    "# Get the structures\n",
    "    pdb_parser = Bio.PDB.PDBParser(QUIET = True)\n",
    "    ref_structure = pdb_parser.get_structure(\"reference\", \"./ref1.pdb\")\n",
    "    sample_structure = pdb_parser.get_structure(\"sample\", \"./%s.pdb\"%pdbid)\n",
    "# Use the first model in the pdb-files for alignment\n",
    "    ref_model    = ref_structure[0]\n",
    "    sample_model = sample_structure[0]\n",
    "    ref_atoms    = []\n",
    "    sample_atoms = []\n",
    "# Iterate of all residues in each model in order to define proper atoms\n",
    "    #Reference structure\n",
    "    for ref_res in ref_model['%s'%mhc_a]:\n",
    "        if ref_res.get_id()[1] in mhci_atoms_to_align_com:\n",
    "            ref_atoms.append(ref_res['CA'])\n",
    "            #print(len(ref_atoms))\n",
    "    # Sample structure\n",
    "    for sample_res in sample_model['%s'%mhc_a]:\n",
    "        if sample_res.get_id()[1] in mhci_atoms_to_align_com:\n",
    "            sample_atoms.append(sample_res['CA'])\n",
    "            #print(len(sample_atoms))\n",
    "# Initiate the superimposer:\n",
    "    super_imposer = Bio.PDB.Superimposer()\n",
    "    super_imposer.set_atoms(ref_atoms, sample_atoms)\n",
    "    super_imposer.apply(sample_model.get_atoms())\n",
    "# Save the aligned version of pdb\n",
    "    io = Bio.PDB.PDBIO()\n",
    "    io.set_structure(sample_structure) \n",
    "    #io.save(\"%s_aligned.pdb\"%pdbid)\n",
    "# Calculate CoM of MHCI binding groove    \n",
    "    mhci_com = center_of_mass(sample_atoms, geometric=True)\n",
    "\n",
    "# Calculate CoM of vTCR \n",
    "    tcr_a_atoms_for_com = range(tcr_a_init, tcr_a_final + 1)\n",
    "    tcr_b_atoms_for_com = range(tcr_b_init, tcr_b_final + 1)\n",
    "    tcr_atoms_for_com = []\n",
    "    for tcr_res in sample_model['%s'%tcr_a]:\n",
    "        if tcr_res.get_id()[1] in tcr_a_atoms_for_com:\n",
    "            tcr_atoms_for_com.append(tcr_res['CA'])\n",
    "    for tcr_res in sample_model['%s'%tcr_b]:\n",
    "        if tcr_res.get_id()[1] in tcr_b_atoms_for_com:\n",
    "            tcr_atoms_for_com.append(tcr_res['CA'])\n",
    "    #vtcr_com = (center_of_mass(tcr_atoms_for_com))\n",
    "    vtcr_com = (center_of_mass(tcr_atoms_for_com, geometric=True))\n",
    "\n",
    "# Geomitrical parameters\n",
    "    dx, dy, dz = (np.subtract(vtcr_com, mhci_com))\n",
    "    r = np.sqrt(np.sum(np.square(np.subtract(vtcr_com, mhci_com))))\n",
    "    theta = np.degrees(np.arctan2(dy, dx))\n",
    "    phi = np.degrees(np.arccos(dz / r))\n",
    "    print('The Geomitrical parameters: r = %s, theta = %s, phi = %s' % (r, theta, phi))\n",
    "    return r, theta, phi"
   ]
  },
  {
   "cell_type": "code",
   "execution_count": 36,
   "metadata": {},
   "outputs": [
    {
     "name": "stdout",
     "output_type": "stream",
     "text": [
      "The Geomitrical parameters: r = 28.9459950288, theta = 100.245013533, phi = 22.6999796377\n"
     ]
    },
    {
     "data": {
      "text/plain": [
       "(28.945995028751664, 100.24501353314643, 22.699979637721025)"
      ]
     },
     "execution_count": 36,
     "metadata": {},
     "output_type": "execute_result"
    }
   ],
   "source": [
    "tcr_mhci_pos('1_1MI5')"
   ]
  },
  {
   "cell_type": "markdown",
   "metadata": {},
   "source": [
    "-----------"
   ]
  },
  {
   "cell_type": "code",
   "execution_count": 40,
   "metadata": {},
   "outputs": [],
   "source": [
    "# Geometrical parameters of TCR-MHC class II\n",
    "def tcr_mhcii_pos(pdbid, mhc_a='A', mhc_b='B', tcr_a='D', tcr_b='E',\n",
    "                 mhc_a_init=1, mhc_a_final=80, mhc_b_init=1, mhc_b_final=90,\n",
    "                 tcr_a_init=1, tcr_a_final=109, tcr_b_init=1, tcr_b_final=116):\n",
    "# Define residues range to align and center of mass calculations\n",
    "    mhc_a_to_be_aligned = range(mhc_a_init, mhc_a_final + 1)\n",
    "    mhc_b_to_be_aligned = range(mhc_b_init, mhc_b_final + 1)\n",
    "# Get the structures\n",
    "    pdb_parser = Bio.PDB.PDBParser(QUIET = True)\n",
    "    ref_structure = pdb_parser.get_structure(\"reference\", \"./ref2.pdb\")\n",
    "    sample_structure = pdb_parser.get_structure(\"sample\", \"./%s.pdb\"%pdbid)\n",
    "    ref_model    = ref_structure[0]\n",
    "    sample_model = sample_structure[0]\n",
    "    ref_atoms = []\n",
    "    sample_atoms = []\n",
    "# Iterate of all residues in each model in order to define proper atoms\n",
    "    #Reference structure\n",
    "    for mhc_res in ref_model['%s'%mhc_a]:\n",
    "        if mhc_res.get_id()[1] in mhc_a_to_be_aligned:\n",
    "            ref_atoms.append(mhc_res['CA'])\n",
    "    for mhc_res in ref_model['%s'%mhc_b]:\n",
    "        if mhc_res.get_id()[1] in mhc_b_to_be_aligned:\n",
    "            ref_atoms.append(mhc_res['CA'])\n",
    "    # Sample structure\n",
    "    for sample_res in sample_model['%s'%mhc_a]:\n",
    "        if sample_res.get_id()[1] in mhc_a_to_be_aligned:\n",
    "            sample_atoms.append(sample_res['CA'])\n",
    "    for sample_res in sample_model['%s'%mhc_b]:\n",
    "        if sample_res.get_id()[1] in mhc_b_to_be_aligned:\n",
    "            sample_atoms.append(sample_res['CA'])\n",
    "# Initiate the superimposer:\n",
    "    super_imposer = Bio.PDB.Superimposer()\n",
    "    super_imposer.set_atoms(ref_atoms, sample_atoms)\n",
    "    super_imposer.apply(sample_model.get_atoms())\n",
    "# Save the aligned version of pdb\n",
    "    io = Bio.PDB.PDBIO()\n",
    "    io.set_structure(sample_structure) \n",
    "    io.save(\"%s_aligned.pdb\"%pdbid)\n",
    "# Calculate CoM of MHCII binding groove     \n",
    "    mhcii_com = center_of_mass(sample_atoms, geometric=True)\n",
    "# Calculate CoM of vTCR     \n",
    "    tcr_a_atoms_for_com = range(tcr_a_init, tcr_a_final + 1)\n",
    "    tcr_b_atoms_for_com = range(tcr_b_init, tcr_b_final + 1)\n",
    "    tcr_atoms_for_com = []\n",
    "    for tcr_res in sample_model['%s'%tcr_a]:\n",
    "        if tcr_res.get_id()[1] in tcr_a_atoms_for_com:\n",
    "            tcr_atoms_for_com.append(tcr_res['CA'])\n",
    "    for tcr_res in sample_model['%s'%tcr_b]:\n",
    "        if tcr_res.get_id()[1] in tcr_b_atoms_for_com:\n",
    "            tcr_atoms_for_com.append(tcr_res['CA'])\n",
    "    #vtcr_com =center_of_mass(tcr_atoms_for_com)\n",
    "    vtcr_com = center_of_mass(tcr_atoms_for_com, geometric=True)\n",
    "# Geomitrical parameters\n",
    "    dx, dy, dz = (np.subtract(vtcr_com, mhcii_com))\n",
    "    r = np.sqrt(np.sum(np.square(np.subtract(vtcr_com, mhcii_com))))\n",
    "    theta = np.degrees(np.arctan2(dy, dx))\n",
    "    phi = np.degrees(np.arccos(dz / r))\n",
    "    print('The Geomitrical parameters: r = %s, theta = %s, phi = %s' % (r, theta, phi))\n",
    "    return r, theta, phi    "
   ]
  },
  {
   "cell_type": "code",
   "execution_count": 41,
   "metadata": {},
   "outputs": [
    {
     "name": "stdout",
     "output_type": "stream",
     "text": [
      "The Geomitrical parameters: r = 29.0469555512, theta = -157.91733426, phi = 9.33320378452\n"
     ]
    },
    {
     "data": {
      "text/plain": [
       "(29.04695555116291, -157.91733426040611, 9.3332037845238851)"
      ]
     },
     "execution_count": 41,
     "metadata": {},
     "output_type": "execute_result"
    }
   ],
   "source": [
    "tcr_mhcii_pos('1FYT')"
   ]
  },
  {
   "cell_type": "code",
   "execution_count": null,
   "metadata": {
    "collapsed": true
   },
   "outputs": [],
   "source": []
  }
 ],
 "metadata": {
  "anaconda-cloud": {},
  "kernelspec": {
   "display_name": "Python [conda env:miniconda3]",
   "language": "python",
   "name": "conda-env-miniconda3-py"
  },
  "language_info": {
   "codemirror_mode": {
    "name": "ipython",
    "version": 3
   },
   "file_extension": ".py",
   "mimetype": "text/x-python",
   "name": "python",
   "nbconvert_exporter": "python",
   "pygments_lexer": "ipython3",
   "version": "3.5.5"
  }
 },
 "nbformat": 4,
 "nbformat_minor": 2
}
